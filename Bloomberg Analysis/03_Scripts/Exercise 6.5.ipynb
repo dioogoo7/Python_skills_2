{
 "cells": [
  {
   "cell_type": "markdown",
   "metadata": {},
   "source": [
    "### Importing Libraries and data set"
   ]
  },
  {
   "cell_type": "code",
   "execution_count": 3,
   "metadata": {},
   "outputs": [],
   "source": [
    "import pandas as pd\n",
    "import numpy as np\n",
    "import seaborn as sns\n",
    "import matplotlib\n",
    "import matplotlib.pyplot as plt\n",
    "import os\n",
    "import sklearn\n",
    "from sklearn.cluster import KMeans \n",
    "import pylab as pl "
   ]
  },
  {
   "cell_type": "code",
   "execution_count": 4,
   "metadata": {},
   "outputs": [],
   "source": [
    "%matplotlib inline"
   ]
  },
  {
   "cell_type": "code",
   "execution_count": 5,
   "metadata": {},
   "outputs": [],
   "source": [
    "path = r\"C:\\Users\\dioog\\02. Bloomberg Analysis\""
   ]
  },
  {
   "cell_type": "code",
   "execution_count": 6,
   "metadata": {},
   "outputs": [],
   "source": [
    "df = pd.read_csv(os.path.join(path, \"02_Data\", \"Prepared data\", \"df_Vs3.csv\"))"
   ]
  },
  {
   "cell_type": "code",
   "execution_count": 7,
   "metadata": {},
   "outputs": [],
   "source": [
    "df_clean2 = pd.read_csv(os.path.join(path, \"02_Data\", \"Prepared data\", \"df_Vs3_clean2_exe6-4.csv\"))"
   ]
  },
  {
   "cell_type": "code",
   "execution_count": 8,
   "metadata": {},
   "outputs": [
    {
     "data": {
      "text/plain": [
       "(4937, 32)"
      ]
     },
     "execution_count": 8,
     "metadata": {},
     "output_type": "execute_result"
    }
   ],
   "source": [
    "df.shape"
   ]
  },
  {
   "cell_type": "code",
   "execution_count": 10,
   "metadata": {},
   "outputs": [
    {
     "data": {
      "text/plain": [
       "(4779, 33)"
      ]
     },
     "execution_count": 10,
     "metadata": {},
     "output_type": "execute_result"
    }
   ],
   "source": [
    "df_clean2.shape"
   ]
  },
  {
   "cell_type": "markdown",
   "metadata": {},
   "source": [
    "### Data manipulation and reprocessing \n"
   ]
  },
  {
   "cell_type": "code",
   "execution_count": 11,
   "metadata": {},
   "outputs": [
    {
     "data": {
      "text/plain": [
       "Index(['Unnamed: 0', 'Unnamed: 0.1', 'Unnamed: 0.1.1', 'Ticker', 'Short Name',\n",
       "       'Market Cap', 'Rank(Current Market Cap)', 'Sector', 'Prim Exch Nm',\n",
       "       'Country', 'Cntry of Incorp', 'Best Analyst Rating', '52Wk High',\n",
       "       '52Wk Low', '52Wk Low Dt', '52Wk High Dt', '1Y Tot Ret (%)',\n",
       "       '02/12/2019', '01/01/2020', '03/02/2020', '02/03/2020', '01/04/2020',\n",
       "       '01/05/2020', '01/06/2020', '01/07/2020', '03/08/2020', '01/09/2020',\n",
       "       '01/10/2020', '02/11/2020', 'ratio_yearvar_meanprice',\n",
       "       'performance category', 'Value category', 'performance category_2'],\n",
       "      dtype='object')"
      ]
     },
     "execution_count": 11,
     "metadata": {},
     "output_type": "execute_result"
    }
   ],
   "source": [
    "df_clean2.columns "
   ]
  },
  {
   "cell_type": "code",
   "execution_count": 35,
   "metadata": {},
   "outputs": [],
   "source": [
    "# removing categorical and prices columns \n",
    "\n",
    "df_num = df_clean2[['Market Cap', '1Y Tot Ret (%)', 'ratio_yearvar_meanprice']]"
   ]
  },
  {
   "cell_type": "code",
   "execution_count": 36,
   "metadata": {},
   "outputs": [
    {
     "data": {
      "text/html": [
       "<div>\n",
       "<style scoped>\n",
       "    .dataframe tbody tr th:only-of-type {\n",
       "        vertical-align: middle;\n",
       "    }\n",
       "\n",
       "    .dataframe tbody tr th {\n",
       "        vertical-align: top;\n",
       "    }\n",
       "\n",
       "    .dataframe thead th {\n",
       "        text-align: right;\n",
       "    }\n",
       "</style>\n",
       "<table border=\"1\" class=\"dataframe\">\n",
       "  <thead>\n",
       "    <tr style=\"text-align: right;\">\n",
       "      <th></th>\n",
       "      <th>Market Cap</th>\n",
       "      <th>1Y Tot Ret (%)</th>\n",
       "      <th>ratio_yearvar_meanprice</th>\n",
       "    </tr>\n",
       "  </thead>\n",
       "  <tbody>\n",
       "    <tr>\n",
       "      <th>count</th>\n",
       "      <td>4.779000e+03</td>\n",
       "      <td>4779.000000</td>\n",
       "      <td>4779.000000</td>\n",
       "    </tr>\n",
       "    <tr>\n",
       "      <th>mean</th>\n",
       "      <td>1.897072e+10</td>\n",
       "      <td>26.979590</td>\n",
       "      <td>0.761016</td>\n",
       "    </tr>\n",
       "    <tr>\n",
       "      <th>std</th>\n",
       "      <td>6.108302e+10</td>\n",
       "      <td>94.799095</td>\n",
       "      <td>0.408997</td>\n",
       "    </tr>\n",
       "    <tr>\n",
       "      <th>min</th>\n",
       "      <td>2.751337e+09</td>\n",
       "      <td>-77.790000</td>\n",
       "      <td>0.000000</td>\n",
       "    </tr>\n",
       "    <tr>\n",
       "      <th>25%</th>\n",
       "      <td>4.083476e+09</td>\n",
       "      <td>-7.780000</td>\n",
       "      <td>0.518315</td>\n",
       "    </tr>\n",
       "    <tr>\n",
       "      <th>50%</th>\n",
       "      <td>6.813822e+09</td>\n",
       "      <td>8.670000</td>\n",
       "      <td>0.682705</td>\n",
       "    </tr>\n",
       "    <tr>\n",
       "      <th>75%</th>\n",
       "      <td>1.509442e+10</td>\n",
       "      <td>35.695000</td>\n",
       "      <td>0.917707</td>\n",
       "    </tr>\n",
       "    <tr>\n",
       "      <th>max</th>\n",
       "      <td>2.045317e+12</td>\n",
       "      <td>2547.540000</td>\n",
       "      <td>9.289960</td>\n",
       "    </tr>\n",
       "  </tbody>\n",
       "</table>\n",
       "</div>"
      ],
      "text/plain": [
       "         Market Cap  1Y Tot Ret (%)  ratio_yearvar_meanprice\n",
       "count  4.779000e+03     4779.000000              4779.000000\n",
       "mean   1.897072e+10       26.979590                 0.761016\n",
       "std    6.108302e+10       94.799095                 0.408997\n",
       "min    2.751337e+09      -77.790000                 0.000000\n",
       "25%    4.083476e+09       -7.780000                 0.518315\n",
       "50%    6.813822e+09        8.670000                 0.682705\n",
       "75%    1.509442e+10       35.695000                 0.917707\n",
       "max    2.045317e+12     2547.540000                 9.289960"
      ]
     },
     "execution_count": 36,
     "metadata": {},
     "output_type": "execute_result"
    }
   ],
   "source": [
    "df_num.describe()"
   ]
  },
  {
   "cell_type": "code",
   "execution_count": 37,
   "metadata": {},
   "outputs": [
    {
     "name": "stderr",
     "output_type": "stream",
     "text": [
      "<ipython-input-37-76ecc9ee9a78>:3: SettingWithCopyWarning: \n",
      "A value is trying to be set on a copy of a slice from a DataFrame.\n",
      "Try using .loc[row_indexer,col_indexer] = value instead\n",
      "\n",
      "See the caveats in the documentation: https://pandas.pydata.org/pandas-docs/stable/user_guide/indexing.html#returning-a-view-versus-a-copy\n",
      "  df_num[\"ratio_yearvar_meanprice_100\"] = 100 * df_num[\"ratio_yearvar_meanprice\"]\n"
     ]
    }
   ],
   "source": [
    "# Multiplying \"ratio_yearvar_meanprice\" by 100 to reduce the difference between your variables’ scales.\n",
    "\n",
    "df_num[\"ratio_yearvar_meanprice_100\"] = 100 * df_num[\"ratio_yearvar_meanprice\"] "
   ]
  },
  {
   "cell_type": "code",
   "execution_count": 39,
   "metadata": {},
   "outputs": [
    {
     "data": {
      "text/plain": [
       "count    4779.000000\n",
       "mean       76.101582\n",
       "std        40.899678\n",
       "min         0.000000\n",
       "25%        51.831463\n",
       "50%        68.270521\n",
       "75%        91.770694\n",
       "max       928.996010\n",
       "Name: ratio_yearvar_meanprice_100, dtype: float64"
      ]
     },
     "execution_count": 39,
     "metadata": {},
     "output_type": "execute_result"
    }
   ],
   "source": [
    "df_num[\"ratio_yearvar_meanprice_100\"].describe()"
   ]
  },
  {
   "cell_type": "code",
   "execution_count": 51,
   "metadata": {},
   "outputs": [
    {
     "name": "stderr",
     "output_type": "stream",
     "text": [
      "<ipython-input-51-1125bb0c0df2>:3: SettingWithCopyWarning: \n",
      "A value is trying to be set on a copy of a slice from a DataFrame.\n",
      "Try using .loc[row_indexer,col_indexer] = value instead\n",
      "\n",
      "See the caveats in the documentation: https://pandas.pydata.org/pandas-docs/stable/user_guide/indexing.html#returning-a-view-versus-a-copy\n",
      "  df_num[\"Market Cap_5root\"] = df_num[\"Market Cap\"] ** (1.0 / 5)\n"
     ]
    }
   ],
   "source": [
    "# standardizing \"Market Cap\" by substituting original value by its 5th root.\n",
    "\n",
    "df_num[\"Market Cap_5root\"] = df_num[\"Market Cap\"] ** (1.0 / 5) "
   ]
  },
  {
   "cell_type": "code",
   "execution_count": 53,
   "metadata": {},
   "outputs": [
    {
     "data": {
      "text/plain": [
       "count    4779.000000\n",
       "mean       99.832696\n",
       "std        22.735953\n",
       "min        77.251829\n",
       "25%        83.599948\n",
       "50%        92.614323\n",
       "75%       108.583360\n",
       "max       289.835860\n",
       "Name: Market Cap_5root, dtype: float64"
      ]
     },
     "execution_count": 53,
     "metadata": {},
     "output_type": "execute_result"
    }
   ],
   "source": [
    "df_num[\"Market Cap_5root\"].describe()"
   ]
  },
  {
   "cell_type": "code",
   "execution_count": 54,
   "metadata": {},
   "outputs": [],
   "source": [
    "# removing \"ratio_yearvar_meanprice\" and \"Market Cap\" columns \n",
    "\n",
    "df_num2 = df_num[['1Y Tot Ret (%)', 'ratio_yearvar_meanprice_100', 'Market Cap_5root']]"
   ]
  },
  {
   "cell_type": "code",
   "execution_count": 56,
   "metadata": {},
   "outputs": [
    {
     "data": {
      "text/html": [
       "<div>\n",
       "<style scoped>\n",
       "    .dataframe tbody tr th:only-of-type {\n",
       "        vertical-align: middle;\n",
       "    }\n",
       "\n",
       "    .dataframe tbody tr th {\n",
       "        vertical-align: top;\n",
       "    }\n",
       "\n",
       "    .dataframe thead th {\n",
       "        text-align: right;\n",
       "    }\n",
       "</style>\n",
       "<table border=\"1\" class=\"dataframe\">\n",
       "  <thead>\n",
       "    <tr style=\"text-align: right;\">\n",
       "      <th></th>\n",
       "      <th>1Y Tot Ret (%)</th>\n",
       "      <th>ratio_yearvar_meanprice_100</th>\n",
       "      <th>Market Cap_5root</th>\n",
       "    </tr>\n",
       "  </thead>\n",
       "  <tbody>\n",
       "    <tr>\n",
       "      <th>count</th>\n",
       "      <td>4779.000000</td>\n",
       "      <td>4779.000000</td>\n",
       "      <td>4779.000000</td>\n",
       "    </tr>\n",
       "    <tr>\n",
       "      <th>mean</th>\n",
       "      <td>26.979590</td>\n",
       "      <td>76.101582</td>\n",
       "      <td>99.832696</td>\n",
       "    </tr>\n",
       "    <tr>\n",
       "      <th>std</th>\n",
       "      <td>94.799095</td>\n",
       "      <td>40.899678</td>\n",
       "      <td>22.735953</td>\n",
       "    </tr>\n",
       "    <tr>\n",
       "      <th>min</th>\n",
       "      <td>-77.790000</td>\n",
       "      <td>0.000000</td>\n",
       "      <td>77.251829</td>\n",
       "    </tr>\n",
       "    <tr>\n",
       "      <th>25%</th>\n",
       "      <td>-7.780000</td>\n",
       "      <td>51.831463</td>\n",
       "      <td>83.599948</td>\n",
       "    </tr>\n",
       "    <tr>\n",
       "      <th>50%</th>\n",
       "      <td>8.670000</td>\n",
       "      <td>68.270521</td>\n",
       "      <td>92.614323</td>\n",
       "    </tr>\n",
       "    <tr>\n",
       "      <th>75%</th>\n",
       "      <td>35.695000</td>\n",
       "      <td>91.770694</td>\n",
       "      <td>108.583360</td>\n",
       "    </tr>\n",
       "    <tr>\n",
       "      <th>max</th>\n",
       "      <td>2547.540000</td>\n",
       "      <td>928.996010</td>\n",
       "      <td>289.835860</td>\n",
       "    </tr>\n",
       "  </tbody>\n",
       "</table>\n",
       "</div>"
      ],
      "text/plain": [
       "       1Y Tot Ret (%)  ratio_yearvar_meanprice_100  Market Cap_5root\n",
       "count     4779.000000                  4779.000000       4779.000000\n",
       "mean        26.979590                    76.101582         99.832696\n",
       "std         94.799095                    40.899678         22.735953\n",
       "min        -77.790000                     0.000000         77.251829\n",
       "25%         -7.780000                    51.831463         83.599948\n",
       "50%          8.670000                    68.270521         92.614323\n",
       "75%         35.695000                    91.770694        108.583360\n",
       "max       2547.540000                   928.996010        289.835860"
      ]
     },
     "execution_count": 56,
     "metadata": {},
     "output_type": "execute_result"
    }
   ],
   "source": [
    "df_num2.describe()"
   ]
  },
  {
   "cell_type": "markdown",
   "metadata": {},
   "source": [
    "### Applying the elbow technique"
   ]
  },
  {
   "cell_type": "code",
   "execution_count": 57,
   "metadata": {},
   "outputs": [],
   "source": [
    "num_cl = range(1, 10) # Defines the range of potential clusters in the data.\n",
    "kmeans = [KMeans(n_clusters=i) for i in num_cl] # Defines k-means clusters in the range assigned above."
   ]
  },
  {
   "cell_type": "code",
   "execution_count": 58,
   "metadata": {},
   "outputs": [
    {
     "data": {
      "text/plain": [
       "[-53401678.75769567,\n",
       " -32187186.067436945,\n",
       " -18237832.68039223,\n",
       " -13123313.665808387,\n",
       " -10393134.60550252,\n",
       " -8634531.576771293,\n",
       " -7443294.179042715,\n",
       " -6393649.52164888,\n",
       " -5791039.484683682]"
      ]
     },
     "execution_count": 58,
     "metadata": {},
     "output_type": "execute_result"
    }
   ],
   "source": [
    "score = [kmeans[i].fit(df_num2).score(df_num2) for i in range(len(kmeans))] # Creates a score that represents \n",
    "# a rate of variation for the given cluster option.\n",
    "\n",
    "score"
   ]
  },
  {
   "cell_type": "code",
   "execution_count": 59,
   "metadata": {},
   "outputs": [
    {
     "data": {
      "image/png": "[encoded data removed]",
      "text/plain": [
       "<Figure size 432x288 with 1 Axes>"
      ]
     },
     "metadata": {},
     "output_type": "display_data"
    }
   ],
   "source": [
    "# Plot the elbow curve using PyLab.\n",
    "\n",
    "pl.plot(num_cl,score)\n",
    "pl.xlabel('Number of Clusters')\n",
    "pl.ylabel('Score')\n",
    "pl.title('Elbow Curve')\n",
    "pl.show()"
   ]
  },
  {
   "cell_type": "markdown",
   "metadata": {},
   "source": [
    "### Comment:\n",
    "\n",
    "##### Based on the chart, It appears that the optimal number of clusters is four.\n",
    "\n",
    "#####  After that the curve begins to flatten out."
   ]
  },
  {
   "cell_type": "markdown",
   "metadata": {},
   "source": [
    "### Running the k-means algorithm"
   ]
  },
  {
   "cell_type": "code",
   "execution_count": 65,
   "metadata": {},
   "outputs": [],
   "source": [
    "# Creating the k-means object.\n",
    "\n",
    "kmeans = KMeans(n_clusters = 4, n_jobs = -1) "
   ]
  },
  {
   "cell_type": "code",
   "execution_count": 66,
   "metadata": {},
   "outputs": [
    {
     "name": "stderr",
     "output_type": "stream",
     "text": [
      "C:\\Anaconda\\lib\\site-packages\\sklearn\\cluster\\_kmeans.py:938: FutureWarning: 'n_jobs' was deprecated in version 0.23 and will be removed in 0.25.\n",
      "  warnings.warn(\"'n_jobs' was deprecated in version 0.23 and will be\"\n"
     ]
    },
    {
     "data": {
      "text/plain": [
       "KMeans(n_clusters=4, n_jobs=-1)"
      ]
     },
     "execution_count": 66,
     "metadata": {},
     "output_type": "execute_result"
    }
   ],
   "source": [
    "# Fitting the k-means object to the data.\n",
    "\n",
    "kmeans.fit(df_num2)"
   ]
  },
  {
   "cell_type": "markdown",
   "metadata": {},
   "source": [
    "### Attaching a new column to dataframe with the resulting clusters "
   ]
  },
  {
   "cell_type": "code",
   "execution_count": 67,
   "metadata": {},
   "outputs": [
    {
     "name": "stderr",
     "output_type": "stream",
     "text": [
      "C:\\Anaconda\\lib\\site-packages\\sklearn\\cluster\\_kmeans.py:938: FutureWarning: 'n_jobs' was deprecated in version 0.23 and will be removed in 0.25.\n",
      "  warnings.warn(\"'n_jobs' was deprecated in version 0.23 and will be\"\n",
      "<ipython-input-67-3d6b0500296c>:1: SettingWithCopyWarning: \n",
      "A value is trying to be set on a copy of a slice from a DataFrame.\n",
      "Try using .loc[row_indexer,col_indexer] = value instead\n",
      "\n",
      "See the caveats in the documentation: https://pandas.pydata.org/pandas-docs/stable/user_guide/indexing.html#returning-a-view-versus-a-copy\n",
      "  df_num2['clusters'] = kmeans.fit_predict(df_num2)\n"
     ]
    }
   ],
   "source": [
    "df_num2['clusters'] = kmeans.fit_predict(df_num2)"
   ]
  },
  {
   "cell_type": "code",
   "execution_count": 68,
   "metadata": {},
   "outputs": [
    {
     "data": {
      "text/html": [
       "<div>\n",
       "<style scoped>\n",
       "    .dataframe tbody tr th:only-of-type {\n",
       "        vertical-align: middle;\n",
       "    }\n",
       "\n",
       "    .dataframe tbody tr th {\n",
       "        vertical-align: top;\n",
       "    }\n",
       "\n",
       "    .dataframe thead th {\n",
       "        text-align: right;\n",
       "    }\n",
       "</style>\n",
       "<table border=\"1\" class=\"dataframe\">\n",
       "  <thead>\n",
       "    <tr style=\"text-align: right;\">\n",
       "      <th></th>\n",
       "      <th>1Y Tot Ret (%)</th>\n",
       "      <th>ratio_yearvar_meanprice_100</th>\n",
       "      <th>Market Cap_5root</th>\n",
       "      <th>clusters</th>\n",
       "    </tr>\n",
       "  </thead>\n",
       "  <tbody>\n",
       "    <tr>\n",
       "      <th>0</th>\n",
       "      <td>79.75</td>\n",
       "      <td>95.673832</td>\n",
       "      <td>289.835860</td>\n",
       "      <td>0</td>\n",
       "    </tr>\n",
       "    <tr>\n",
       "      <th>1</th>\n",
       "      <td>43.23</td>\n",
       "      <td>54.061772</td>\n",
       "      <td>277.392054</td>\n",
       "      <td>1</td>\n",
       "    </tr>\n",
       "    <tr>\n",
       "      <th>2</th>\n",
       "      <td>77.83</td>\n",
       "      <td>77.131536</td>\n",
       "      <td>274.938756</td>\n",
       "      <td>0</td>\n",
       "    </tr>\n",
       "    <tr>\n",
       "      <th>3</th>\n",
       "      <td>33.98</td>\n",
       "      <td>56.891065</td>\n",
       "      <td>260.629630</td>\n",
       "      <td>1</td>\n",
       "    </tr>\n",
       "    <tr>\n",
       "      <th>4</th>\n",
       "      <td>36.94</td>\n",
       "      <td>74.137817</td>\n",
       "      <td>239.897271</td>\n",
       "      <td>1</td>\n",
       "    </tr>\n",
       "  </tbody>\n",
       "</table>\n",
       "</div>"
      ],
      "text/plain": [
       "   1Y Tot Ret (%)  ratio_yearvar_meanprice_100  Market Cap_5root  clusters\n",
       "0           79.75                    95.673832        289.835860         0\n",
       "1           43.23                    54.061772        277.392054         1\n",
       "2           77.83                    77.131536        274.938756         0\n",
       "3           33.98                    56.891065        260.629630         1\n",
       "4           36.94                    74.137817        239.897271         1"
      ]
     },
     "execution_count": 68,
     "metadata": {},
     "output_type": "execute_result"
    }
   ],
   "source": [
    "df_num2.head()"
   ]
  },
  {
   "cell_type": "code",
   "execution_count": 69,
   "metadata": {},
   "outputs": [
    {
     "data": {
      "text/plain": [
       "1    4115\n",
       "0     611\n",
       "3      49\n",
       "2       4\n",
       "Name: clusters, dtype: int64"
      ]
     },
     "execution_count": 69,
     "metadata": {},
     "output_type": "execute_result"
    }
   ],
   "source": [
    "df_num2['clusters'].value_counts()"
   ]
  },
  {
   "cell_type": "code",
   "execution_count": 70,
   "metadata": {},
   "outputs": [
    {
     "data": {
      "text/plain": [
       "Index(['1Y Tot Ret (%)', 'ratio_yearvar_meanprice_100', 'Market Cap_5root',\n",
       "       'clusters'],\n",
       "      dtype='object')"
      ]
     },
     "execution_count": 70,
     "metadata": {},
     "output_type": "execute_result"
    }
   ],
   "source": [
    "df_num2.columns"
   ]
  },
  {
   "cell_type": "markdown",
   "metadata": {},
   "source": [
    "### Creating visualizations using your clustered data. "
   ]
  },
  {
   "cell_type": "code",
   "execution_count": 71,
   "metadata": {},
   "outputs": [
    {
     "data": {
      "image/png": "[encoded data removed]",
      "text/plain": [
       "<Figure size 864x576 with 1 Axes>"
      ]
     },
     "metadata": {},
     "output_type": "display_data"
    }
   ],
   "source": [
    "# Plotting the clusters for the 'ratio_yearvar_meanprice_100' and '1Y Tot Ret (%)' variables.\n",
    "\n",
    "plt.figure(figsize=(12,8))\n",
    "ax = sns.scatterplot(x=df_num2['ratio_yearvar_meanprice_100'], y=df_num2['1Y Tot Ret (%)'], hue=kmeans.labels_, s=100) \n",
    "# Here, you're subsetting `X` for the x and y arguments to avoid using their labels. \n",
    "# `hue` takes the value of the attribute `kmeans.labels_`, which is the result of running the k-means algorithm.\n",
    "# `s` represents the size of the points you want to see in the plot.\n",
    "\n",
    "ax.grid(False) # This removes the grid from the background.\n",
    "plt.xlabel('ratio_yearvar_meanprice_100') # Label x-axis.\n",
    "plt.ylabel('1Y Tot Ret (%)') # Label y-axis.\n",
    "plt.show()"
   ]
  },
  {
   "cell_type": "markdown",
   "metadata": {},
   "source": [
    "### Comment:\n",
    "\n",
    "##### The clusters make sense as they group the companies according to its yearly performance.\n",
    "\n",
    "##### The clusters mark the distinction between winners and losers in the context of the pandemic. \n",
    "\n",
    "##### It is questionable if cluster 2 makes sense -  it only contains 4 companies. \n",
    "\n",
    "##### But, I also tried it with 3 clusters and these four companies also had a cluster of their own. \n",
    "\n",
    "##### In the end I decided that four clusters was more informative. Still, it is possible these 4 ouliers create bias."
   ]
  },
  {
   "cell_type": "code",
   "execution_count": 72,
   "metadata": {},
   "outputs": [
    {
     "data": {
      "image/png": "[encoded data removed]",
      "text/plain": [
       "<Figure size 864x576 with 1 Axes>"
      ]
     },
     "metadata": {},
     "output_type": "display_data"
    }
   ],
   "source": [
    "# Plotting the clusters for the 'ratio_yearvar_meanprice_100' and 'Market Cap_5root' variables.\n",
    "\n",
    "plt.figure(figsize=(12,8))\n",
    "ax = sns.scatterplot(x=df_num2['Market Cap_5root'], y=df_num2['1Y Tot Ret (%)'], hue=kmeans.labels_, s=100) \n",
    "# Here, you're subsetting `X` for the x and y arguments to avoid using their labels. \n",
    "# `hue` takes the value of the attribute `kmeans.labels_`, which is the result of running the k-means algorithm.\n",
    "# `s` represents the size of the points you want to see in the plot.\n",
    "\n",
    "ax.grid(False) # This removes the grid from the background.\n",
    "plt.xlabel('Market Cap_5root') # Label x-axis.\n",
    "plt.ylabel('1Y Tot Ret (%)') # Label y-axis.\n",
    "plt.show()"
   ]
  },
  {
   "cell_type": "markdown",
   "metadata": {},
   "source": [
    "### Comment:\n",
    "\n",
    "##### The clusters make sense as they group the companies according to their total value and yearly performance.\n",
    "\n",
    "##### It shows performance was not determined by total value. The companies that outperformed were not necessarily the most valuable.  \n",
    "\n",
    "##### At the same time, among the companies that performed moderately, it is possible to find the entire spectrum of the data set in term of market capitalization."
   ]
  },
  {
   "cell_type": "markdown",
   "metadata": {},
   "source": [
    "### Calculating e the descriptive statistics for the clusters using the groupby() function "
   ]
  },
  {
   "cell_type": "code",
   "execution_count": 76,
   "metadata": {},
   "outputs": [
    {
     "data": {
      "text/html": [
       "<div>\n",
       "<style scoped>\n",
       "    .dataframe tbody tr th:only-of-type {\n",
       "        vertical-align: middle;\n",
       "    }\n",
       "\n",
       "    .dataframe tbody tr th {\n",
       "        vertical-align: top;\n",
       "    }\n",
       "\n",
       "    .dataframe thead tr th {\n",
       "        text-align: left;\n",
       "    }\n",
       "\n",
       "    .dataframe thead tr:last-of-type th {\n",
       "        text-align: right;\n",
       "    }\n",
       "</style>\n",
       "<table border=\"1\" class=\"dataframe\">\n",
       "  <thead>\n",
       "    <tr>\n",
       "      <th></th>\n",
       "      <th colspan=\"2\" halign=\"left\">ratio_yearvar_meanprice_100</th>\n",
       "      <th colspan=\"2\" halign=\"left\">Market Cap_5root</th>\n",
       "      <th colspan=\"2\" halign=\"left\">1Y Tot Ret (%)</th>\n",
       "    </tr>\n",
       "    <tr>\n",
       "      <th></th>\n",
       "      <th>mean</th>\n",
       "      <th>median</th>\n",
       "      <th>mean</th>\n",
       "      <th>median</th>\n",
       "      <th>mean</th>\n",
       "      <th>median</th>\n",
       "    </tr>\n",
       "    <tr>\n",
       "      <th>clusters</th>\n",
       "      <th></th>\n",
       "      <th></th>\n",
       "      <th></th>\n",
       "      <th></th>\n",
       "      <th></th>\n",
       "      <th></th>\n",
       "    </tr>\n",
       "  </thead>\n",
       "  <tbody>\n",
       "    <tr>\n",
       "      <th>0</th>\n",
       "      <td>124.382491</td>\n",
       "      <td>116.330892</td>\n",
       "      <td>98.477260</td>\n",
       "      <td>92.037833</td>\n",
       "      <td>117.422390</td>\n",
       "      <td>101.59</td>\n",
       "    </tr>\n",
       "    <tr>\n",
       "      <th>1</th>\n",
       "      <td>66.705354</td>\n",
       "      <td>63.285024</td>\n",
       "      <td>100.020867</td>\n",
       "      <td>92.769913</td>\n",
       "      <td>6.078875</td>\n",
       "      <td>4.04</td>\n",
       "    </tr>\n",
       "    <tr>\n",
       "      <th>2</th>\n",
       "      <td>557.160013</td>\n",
       "      <td>475.621822</td>\n",
       "      <td>105.775187</td>\n",
       "      <td>94.717006</td>\n",
       "      <td>2263.057500</td>\n",
       "      <td>2366.27</td>\n",
       "    </tr>\n",
       "    <tr>\n",
       "      <th>3</th>\n",
       "      <td>223.889489</td>\n",
       "      <td>217.835608</td>\n",
       "      <td>100.446545</td>\n",
       "      <td>91.772345</td>\n",
       "      <td>471.909796</td>\n",
       "      <td>379.18</td>\n",
       "    </tr>\n",
       "  </tbody>\n",
       "</table>\n",
       "</div>"
      ],
      "text/plain": [
       "         ratio_yearvar_meanprice_100             Market Cap_5root             \\\n",
       "                                mean      median             mean     median   \n",
       "clusters                                                                       \n",
       "0                         124.382491  116.330892        98.477260  92.037833   \n",
       "1                          66.705354   63.285024       100.020867  92.769913   \n",
       "2                         557.160013  475.621822       105.775187  94.717006   \n",
       "3                         223.889489  217.835608       100.446545  91.772345   \n",
       "\n",
       "         1Y Tot Ret (%)           \n",
       "                   mean   median  \n",
       "clusters                          \n",
       "0            117.422390   101.59  \n",
       "1              6.078875     4.04  \n",
       "2           2263.057500  2366.27  \n",
       "3            471.909796   379.18  "
      ]
     },
     "execution_count": 76,
     "metadata": {},
     "output_type": "execute_result"
    }
   ],
   "source": [
    "df_num2.groupby('clusters').agg({'ratio_yearvar_meanprice_100':['mean', 'median'], \n",
    "                         'Market Cap_5root':['mean', 'median'], \n",
    "                         '1Y Tot Ret (%)':['mean', 'median']})"
   ]
  },
  {
   "cell_type": "markdown",
   "metadata": {},
   "source": [
    "### Comment:\n",
    "\n",
    "##### In terms of yearly performance, most companies in cluster 1 performed moderately. \n",
    "\n",
    "##### All the companies in clusters 0, 3 and 4, clearly won from the pandemic situation.\n",
    "\n",
    "##### But between them there are staggering performance differences. \n",
    "\n",
    "##### Cluster 2 comprises four companies that registered an average appreciation of 2263%!\n",
    "\n",
    "##### In terms of market capitalization, the difference between the clusters' medians is relatively small.\n",
    "\n",
    "##### Possibly suggesting this variable is not determinant for 1Y Tot Ret (%).\n"
   ]
  },
  {
   "cell_type": "markdown",
   "metadata": {},
   "source": [
    "### Proposition of future steps of an analytics pipeline:\n",
    "\n",
    "##### Explore the differences in yearly performance using categorical variables\n",
    "\n",
    "##### Explore time-series with the prices contained in dataset"
   ]
  }
 ],
 "metadata": {
  "kernelspec": {
   "display_name": "Python 3",
   "language": "python",
   "name": "python3"
  },
  "language_info": {
   "codemirror_mode": {
    "name": "ipython",
    "version": 3
   },
   "file_extension": ".py",
   "mimetype": "text/x-python",
   "name": "python",
   "nbconvert_exporter": "python",
   "pygments_lexer": "ipython3",
   "version": "3.8.5"
  }
 },
 "nbformat": 4,
 "nbformat_minor": 4
}
