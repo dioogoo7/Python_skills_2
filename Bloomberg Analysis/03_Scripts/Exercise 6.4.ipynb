{
 "cells": [
  {
   "cell_type": "markdown",
   "metadata": {},
   "source": [
    "### Importing libraries and datasets"
   ]
  },
  {
   "cell_type": "code",
   "execution_count": 1,
   "metadata": {},
   "outputs": [],
   "source": [
    "import pandas as pd\n",
    "import numpy as np\n",
    "import seaborn as sns\n",
    "import matplotlib\n",
    "import matplotlib.pyplot as plt\n",
    "import os\n",
    "import sklearn\n",
    "from sklearn.model_selection import train_test_split \n",
    "from sklearn.linear_model import LinearRegression\n",
    "from sklearn.metrics import mean_squared_error, r2_score"
   ]
  },
  {
   "cell_type": "code",
   "execution_count": 2,
   "metadata": {},
   "outputs": [],
   "source": [
    "# This option ensures that the graphs you create are displayed within the notebook without the need to \"call\" them specifically.\n",
    "\n",
    "%matplotlib inline"
   ]
  },
  {
   "cell_type": "code",
   "execution_count": 3,
   "metadata": {},
   "outputs": [],
   "source": [
    "path = r\"C:\\Users\\dioog\\02. Bloomberg Analysis\""
   ]
  },
  {
   "cell_type": "code",
   "execution_count": 4,
   "metadata": {},
   "outputs": [],
   "source": [
    "df = pd.read_csv(os.path.join(path, \"02_Data\", \"Prepared data\", \"df_Vs3.csv\"))"
   ]
  },
  {
   "cell_type": "code",
   "execution_count": 5,
   "metadata": {},
   "outputs": [
    {
     "data": {
      "text/html": [
       "<div>\n",
       "<style scoped>\n",
       "    .dataframe tbody tr th:only-of-type {\n",
       "        vertical-align: middle;\n",
       "    }\n",
       "\n",
       "    .dataframe tbody tr th {\n",
       "        vertical-align: top;\n",
       "    }\n",
       "\n",
       "    .dataframe thead th {\n",
       "        text-align: right;\n",
       "    }\n",
       "</style>\n",
       "<table border=\"1\" class=\"dataframe\">\n",
       "  <thead>\n",
       "    <tr style=\"text-align: right;\">\n",
       "      <th></th>\n",
       "      <th>Unnamed: 0</th>\n",
       "      <th>Unnamed: 0.1</th>\n",
       "      <th>Ticker</th>\n",
       "      <th>Short Name</th>\n",
       "      <th>Market Cap</th>\n",
       "      <th>Rank(Current Market Cap)</th>\n",
       "      <th>Sector</th>\n",
       "      <th>Prim Exch Nm</th>\n",
       "      <th>Country</th>\n",
       "      <th>Cntry of Incorp</th>\n",
       "      <th>...</th>\n",
       "      <th>01/06/2020</th>\n",
       "      <th>01/07/2020</th>\n",
       "      <th>03/08/2020</th>\n",
       "      <th>01/09/2020</th>\n",
       "      <th>01/10/2020</th>\n",
       "      <th>02/11/2020</th>\n",
       "      <th>ratio_yearvar_meanprice</th>\n",
       "      <th>performance category</th>\n",
       "      <th>Value category</th>\n",
       "      <th>performance category_2</th>\n",
       "    </tr>\n",
       "  </thead>\n",
       "  <tbody>\n",
       "    <tr>\n",
       "      <th>0</th>\n",
       "      <td>0</td>\n",
       "      <td>0</td>\n",
       "      <td>AAPL US Equity</td>\n",
       "      <td>APPLE INC</td>\n",
       "      <td>2.045317e+12</td>\n",
       "      <td>1.0</td>\n",
       "      <td>Technology</td>\n",
       "      <td>NASDAQ GS</td>\n",
       "      <td>UNITED STATES</td>\n",
       "      <td>US</td>\n",
       "      <td>...</td>\n",
       "      <td>80.46</td>\n",
       "      <td>91.03</td>\n",
       "      <td>108.94</td>\n",
       "      <td>134.18</td>\n",
       "      <td>116.79</td>\n",
       "      <td>108.77</td>\n",
       "      <td>0.956738</td>\n",
       "      <td>pos_performers</td>\n",
       "      <td>High Value</td>\n",
       "      <td>high_positive_performance</td>\n",
       "    </tr>\n",
       "    <tr>\n",
       "      <th>1</th>\n",
       "      <td>1</td>\n",
       "      <td>1</td>\n",
       "      <td>ARAMCO AB Equity</td>\n",
       "      <td>SAUDI ARABIAN OI</td>\n",
       "      <td>1.887799e+12</td>\n",
       "      <td>2.0</td>\n",
       "      <td>Energy</td>\n",
       "      <td>Saudi Arabia</td>\n",
       "      <td>SAUDI ARABIA</td>\n",
       "      <td>SA</td>\n",
       "      <td>...</td>\n",
       "      <td>8.76</td>\n",
       "      <td>8.72</td>\n",
       "      <td>8.80</td>\n",
       "      <td>9.40</td>\n",
       "      <td>9.53</td>\n",
       "      <td>9.12</td>\n",
       "      <td>0.384372</td>\n",
       "      <td>no_data</td>\n",
       "      <td>High Value</td>\n",
       "      <td>no data</td>\n",
       "    </tr>\n",
       "    <tr>\n",
       "      <th>2</th>\n",
       "      <td>2</td>\n",
       "      <td>2</td>\n",
       "      <td>MSFT US Equity</td>\n",
       "      <td>MICROSOFT CORP</td>\n",
       "      <td>1.642367e+12</td>\n",
       "      <td>3.0</td>\n",
       "      <td>Technology</td>\n",
       "      <td>NASDAQ GS</td>\n",
       "      <td>UNITED STATES</td>\n",
       "      <td>US</td>\n",
       "      <td>...</td>\n",
       "      <td>182.83</td>\n",
       "      <td>204.70</td>\n",
       "      <td>216.54</td>\n",
       "      <td>227.27</td>\n",
       "      <td>212.46</td>\n",
       "      <td>202.33</td>\n",
       "      <td>0.540618</td>\n",
       "      <td>pos_performers</td>\n",
       "      <td>High Value</td>\n",
       "      <td>high_positive_performance</td>\n",
       "    </tr>\n",
       "    <tr>\n",
       "      <th>3</th>\n",
       "      <td>3</td>\n",
       "      <td>3</td>\n",
       "      <td>AMZN US Equity</td>\n",
       "      <td>AMAZON.COM INC</td>\n",
       "      <td>1.571013e+12</td>\n",
       "      <td>4.0</td>\n",
       "      <td>Communications</td>\n",
       "      <td>NASDAQ GS</td>\n",
       "      <td>UNITED STATES</td>\n",
       "      <td>US</td>\n",
       "      <td>...</td>\n",
       "      <td>2471.04</td>\n",
       "      <td>2878.70</td>\n",
       "      <td>3111.89</td>\n",
       "      <td>3499.12</td>\n",
       "      <td>3221.26</td>\n",
       "      <td>3004.48</td>\n",
       "      <td>0.771315</td>\n",
       "      <td>pos_performers</td>\n",
       "      <td>High Value</td>\n",
       "      <td>high_positive_performance</td>\n",
       "    </tr>\n",
       "    <tr>\n",
       "      <th>4</th>\n",
       "      <td>4</td>\n",
       "      <td>4</td>\n",
       "      <td>GOOGL US Equity</td>\n",
       "      <td>ALPHABET INC-A</td>\n",
       "      <td>1.202594e+12</td>\n",
       "      <td>5.0</td>\n",
       "      <td>Communications</td>\n",
       "      <td>NASDAQ GS</td>\n",
       "      <td>UNITED STATES</td>\n",
       "      <td>US</td>\n",
       "      <td>...</td>\n",
       "      <td>1434.87</td>\n",
       "      <td>1442.00</td>\n",
       "      <td>1482.76</td>\n",
       "      <td>1655.08</td>\n",
       "      <td>1487.90</td>\n",
       "      <td>1624.32</td>\n",
       "      <td>0.568911</td>\n",
       "      <td>pos_performers</td>\n",
       "      <td>High Value</td>\n",
       "      <td>high_positive_performance</td>\n",
       "    </tr>\n",
       "  </tbody>\n",
       "</table>\n",
       "<p>5 rows × 32 columns</p>\n",
       "</div>"
      ],
      "text/plain": [
       "   Unnamed: 0  Unnamed: 0.1            Ticker        Short Name    Market Cap  \\\n",
       "0           0             0    AAPL US Equity         APPLE INC  2.045317e+12   \n",
       "1           1             1  ARAMCO AB Equity  SAUDI ARABIAN OI  1.887799e+12   \n",
       "2           2             2    MSFT US Equity    MICROSOFT CORP  1.642367e+12   \n",
       "3           3             3    AMZN US Equity    AMAZON.COM INC  1.571013e+12   \n",
       "4           4             4   GOOGL US Equity    ALPHABET INC-A  1.202594e+12   \n",
       "\n",
       "   Rank(Current Market Cap)          Sector  Prim Exch Nm        Country  \\\n",
       "0                       1.0      Technology     NASDAQ GS  UNITED STATES   \n",
       "1                       2.0          Energy  Saudi Arabia   SAUDI ARABIA   \n",
       "2                       3.0      Technology     NASDAQ GS  UNITED STATES   \n",
       "3                       4.0  Communications     NASDAQ GS  UNITED STATES   \n",
       "4                       5.0  Communications     NASDAQ GS  UNITED STATES   \n",
       "\n",
       "  Cntry of Incorp  ...  01/06/2020  01/07/2020  03/08/2020 01/09/2020  \\\n",
       "0              US  ...       80.46       91.03      108.94     134.18   \n",
       "1              SA  ...        8.76        8.72        8.80       9.40   \n",
       "2              US  ...      182.83      204.70      216.54     227.27   \n",
       "3              US  ...     2471.04     2878.70     3111.89    3499.12   \n",
       "4              US  ...     1434.87     1442.00     1482.76    1655.08   \n",
       "\n",
       "  01/10/2020  02/11/2020  ratio_yearvar_meanprice  performance category  \\\n",
       "0     116.79      108.77                 0.956738        pos_performers   \n",
       "1       9.53        9.12                 0.384372               no_data   \n",
       "2     212.46      202.33                 0.540618        pos_performers   \n",
       "3    3221.26     3004.48                 0.771315        pos_performers   \n",
       "4    1487.90     1624.32                 0.568911        pos_performers   \n",
       "\n",
       "   Value category     performance category_2  \n",
       "0      High Value  high_positive_performance  \n",
       "1      High Value                    no data  \n",
       "2      High Value  high_positive_performance  \n",
       "3      High Value  high_positive_performance  \n",
       "4      High Value  high_positive_performance  \n",
       "\n",
       "[5 rows x 32 columns]"
      ]
     },
     "execution_count": 5,
     "metadata": {},
     "output_type": "execute_result"
    }
   ],
   "source": [
    "df.head()"
   ]
  },
  {
   "cell_type": "code",
   "execution_count": 6,
   "metadata": {},
   "outputs": [
    {
     "data": {
      "text/plain": [
       "(4937, 32)"
      ]
     },
     "execution_count": 6,
     "metadata": {},
     "output_type": "execute_result"
    }
   ],
   "source": [
    "df.shape"
   ]
  },
  {
   "cell_type": "markdown",
   "metadata": {},
   "source": [
    "### Cleaning data "
   ]
  },
  {
   "cell_type": "markdown",
   "metadata": {},
   "source": [
    "##### missing values"
   ]
  },
  {
   "cell_type": "code",
   "execution_count": 7,
   "metadata": {},
   "outputs": [
    {
     "data": {
      "text/plain": [
       "Unnamed: 0                    0\n",
       "Unnamed: 0.1                  0\n",
       "Ticker                        0\n",
       "Short Name                    0\n",
       "Market Cap                    0\n",
       "Rank(Current Market Cap)      0\n",
       "Sector                        0\n",
       "Prim Exch Nm                  0\n",
       "Country                       0\n",
       "Cntry of Incorp               0\n",
       "Best Analyst Rating         113\n",
       "52Wk High                     0\n",
       "52Wk Low                      0\n",
       "52Wk Low Dt                   0\n",
       "52Wk High Dt                  0\n",
       "1Y Tot Ret (%)                0\n",
       "02/12/2019                    0\n",
       "01/01/2020                    0\n",
       "03/02/2020                    0\n",
       "02/03/2020                    0\n",
       "01/04/2020                    0\n",
       "01/05/2020                    0\n",
       "01/06/2020                    0\n",
       "01/07/2020                    0\n",
       "03/08/2020                    0\n",
       "01/09/2020                    0\n",
       "01/10/2020                    0\n",
       "02/11/2020                    0\n",
       "ratio_yearvar_meanprice       2\n",
       "performance category          0\n",
       "Value category                0\n",
       "performance category_2        0\n",
       "dtype: int64"
      ]
     },
     "execution_count": 7,
     "metadata": {},
     "output_type": "execute_result"
    }
   ],
   "source": [
    "# Checking for missing values\n",
    "\n",
    "df.isnull().sum()"
   ]
  },
  {
   "cell_type": "code",
   "execution_count": 8,
   "metadata": {},
   "outputs": [],
   "source": [
    "# handling the 2 missing values found in \"ratio_yearvar_meanprice\", one of the variables that will be used in regression.\n",
    "\n",
    "df_nan = df[df[\"ratio_yearvar_meanprice\"].isnull() == True]"
   ]
  },
  {
   "cell_type": "code",
   "execution_count": 9,
   "metadata": {},
   "outputs": [
    {
     "data": {
      "text/html": [
       "<div>\n",
       "<style scoped>\n",
       "    .dataframe tbody tr th:only-of-type {\n",
       "        vertical-align: middle;\n",
       "    }\n",
       "\n",
       "    .dataframe tbody tr th {\n",
       "        vertical-align: top;\n",
       "    }\n",
       "\n",
       "    .dataframe thead th {\n",
       "        text-align: right;\n",
       "    }\n",
       "</style>\n",
       "<table border=\"1\" class=\"dataframe\">\n",
       "  <thead>\n",
       "    <tr style=\"text-align: right;\">\n",
       "      <th></th>\n",
       "      <th>Unnamed: 0</th>\n",
       "      <th>Unnamed: 0.1</th>\n",
       "      <th>Ticker</th>\n",
       "      <th>Short Name</th>\n",
       "      <th>Market Cap</th>\n",
       "      <th>Rank(Current Market Cap)</th>\n",
       "      <th>Sector</th>\n",
       "      <th>Prim Exch Nm</th>\n",
       "      <th>Country</th>\n",
       "      <th>Cntry of Incorp</th>\n",
       "      <th>...</th>\n",
       "      <th>01/06/2020</th>\n",
       "      <th>01/07/2020</th>\n",
       "      <th>03/08/2020</th>\n",
       "      <th>01/09/2020</th>\n",
       "      <th>01/10/2020</th>\n",
       "      <th>02/11/2020</th>\n",
       "      <th>ratio_yearvar_meanprice</th>\n",
       "      <th>performance category</th>\n",
       "      <th>Value category</th>\n",
       "      <th>performance category_2</th>\n",
       "    </tr>\n",
       "  </thead>\n",
       "  <tbody>\n",
       "    <tr>\n",
       "      <th>2604</th>\n",
       "      <td>2604</td>\n",
       "      <td>2604</td>\n",
       "      <td>VTBR RM Equity</td>\n",
       "      <td>VTB BANK</td>\n",
       "      <td>6.319216e+09</td>\n",
       "      <td>2610.0</td>\n",
       "      <td>Financial</td>\n",
       "      <td>MICEX Main</td>\n",
       "      <td>RUSSIA</td>\n",
       "      <td>RU</td>\n",
       "      <td>...</td>\n",
       "      <td>0.0</td>\n",
       "      <td>0.0</td>\n",
       "      <td>0.0</td>\n",
       "      <td>0.0</td>\n",
       "      <td>0.0</td>\n",
       "      <td>0.0</td>\n",
       "      <td>NaN</td>\n",
       "      <td>neg_performers</td>\n",
       "      <td>Middle Value</td>\n",
       "      <td>high_negative_performance</td>\n",
       "    </tr>\n",
       "    <tr>\n",
       "      <th>4352</th>\n",
       "      <td>4352</td>\n",
       "      <td>4352</td>\n",
       "      <td>FEES RM Equity</td>\n",
       "      <td>FEDERAL GRID CO</td>\n",
       "      <td>3.311288e+09</td>\n",
       "      <td>4378.0</td>\n",
       "      <td>Utilities</td>\n",
       "      <td>MICEX Main</td>\n",
       "      <td>RUSSIA</td>\n",
       "      <td>RU</td>\n",
       "      <td>...</td>\n",
       "      <td>0.0</td>\n",
       "      <td>0.0</td>\n",
       "      <td>0.0</td>\n",
       "      <td>0.0</td>\n",
       "      <td>0.0</td>\n",
       "      <td>0.0</td>\n",
       "      <td>NaN</td>\n",
       "      <td>pos_performers</td>\n",
       "      <td>Low Value</td>\n",
       "      <td>moderate_positive_performance</td>\n",
       "    </tr>\n",
       "  </tbody>\n",
       "</table>\n",
       "<p>2 rows × 32 columns</p>\n",
       "</div>"
      ],
      "text/plain": [
       "      Unnamed: 0  Unnamed: 0.1          Ticker       Short Name    Market Cap  \\\n",
       "2604        2604          2604  VTBR RM Equity         VTB BANK  6.319216e+09   \n",
       "4352        4352          4352  FEES RM Equity  FEDERAL GRID CO  3.311288e+09   \n",
       "\n",
       "      Rank(Current Market Cap)     Sector Prim Exch Nm Country  \\\n",
       "2604                    2610.0  Financial   MICEX Main  RUSSIA   \n",
       "4352                    4378.0  Utilities   MICEX Main  RUSSIA   \n",
       "\n",
       "     Cntry of Incorp  ...  01/06/2020  01/07/2020  03/08/2020 01/09/2020  \\\n",
       "2604              RU  ...         0.0         0.0         0.0        0.0   \n",
       "4352              RU  ...         0.0         0.0         0.0        0.0   \n",
       "\n",
       "     01/10/2020  02/11/2020  ratio_yearvar_meanprice  performance category  \\\n",
       "2604        0.0         0.0                      NaN        neg_performers   \n",
       "4352        0.0         0.0                      NaN        pos_performers   \n",
       "\n",
       "      Value category         performance category_2  \n",
       "2604    Middle Value      high_negative_performance  \n",
       "4352       Low Value  moderate_positive_performance  \n",
       "\n",
       "[2 rows x 32 columns]"
      ]
     },
     "execution_count": 9,
     "metadata": {},
     "output_type": "execute_result"
    }
   ],
   "source": [
    "df_nan"
   ]
  },
  {
   "cell_type": "code",
   "execution_count": 10,
   "metadata": {},
   "outputs": [],
   "source": [
    "df_clean = df[df[\"ratio_yearvar_meanprice\"].isnull() == False]"
   ]
  },
  {
   "cell_type": "code",
   "execution_count": 11,
   "metadata": {},
   "outputs": [
    {
     "data": {
      "text/plain": [
       "(4935, 32)"
      ]
     },
     "execution_count": 11,
     "metadata": {},
     "output_type": "execute_result"
    }
   ],
   "source": [
    "df_clean.shape"
   ]
  },
  {
   "cell_type": "markdown",
   "metadata": {},
   "source": [
    "##### duplicates"
   ]
  },
  {
   "cell_type": "code",
   "execution_count": 12,
   "metadata": {},
   "outputs": [],
   "source": [
    "dups = df.duplicated()"
   ]
  },
  {
   "cell_type": "code",
   "execution_count": 14,
   "metadata": {},
   "outputs": [
    {
     "data": {
      "text/plain": [
       "(4937,)"
      ]
     },
     "execution_count": 14,
     "metadata": {},
     "output_type": "execute_result"
    }
   ],
   "source": [
    "dups.shape # No dups"
   ]
  },
  {
   "cell_type": "markdown",
   "metadata": {},
   "source": [
    "##### extreme values"
   ]
  },
  {
   "cell_type": "code",
   "execution_count": 18,
   "metadata": {},
   "outputs": [
    {
     "name": "stderr",
     "output_type": "stream",
     "text": [
      "C:\\Anaconda\\lib\\site-packages\\seaborn\\distributions.py:2551: FutureWarning: `distplot` is a deprecated function and will be removed in a future version. Please adapt your code to use either `displot` (a figure-level function with similar flexibility) or `histplot` (an axes-level function for histograms).\n",
      "  warnings.warn(msg, FutureWarning)\n"
     ]
    },
    {
     "data": {
      "text/plain": [
       "<AxesSubplot:xlabel='1Y Tot Ret (%)', ylabel='Density'>"
      ]
     },
     "execution_count": 18,
     "metadata": {},
     "output_type": "execute_result"
    },
    {
     "data": {
      "image/png": "[encoded data removed]",
      "text/plain": [
       "<Figure size 432x288 with 1 Axes>"
      ]
     },
     "metadata": {
      "needs_background": "light"
     },
     "output_type": "display_data"
    }
   ],
   "source": [
    "sns.distplot(df_clean[\"1Y Tot Ret (%)\"], bins=100) # Shows extreme values\n",
    "\n",
    "# There are outlier companies that performed much better than mean. \n",
    "\n",
    "# But there is no reasonable justification for removing them at this point."
   ]
  },
  {
   "cell_type": "code",
   "execution_count": 20,
   "metadata": {},
   "outputs": [
    {
     "data": {
      "text/plain": [
       "26.126739614994907"
      ]
     },
     "execution_count": 20,
     "metadata": {},
     "output_type": "execute_result"
    }
   ],
   "source": [
    "df_clean[\"1Y Tot Ret (%)\"].mean()"
   ]
  },
  {
   "cell_type": "code",
   "execution_count": 21,
   "metadata": {},
   "outputs": [
    {
     "data": {
      "text/plain": [
       "2547.54"
      ]
     },
     "execution_count": 21,
     "metadata": {},
     "output_type": "execute_result"
    }
   ],
   "source": [
    "df_clean[\"1Y Tot Ret (%)\"].max()"
   ]
  },
  {
   "cell_type": "code",
   "execution_count": 22,
   "metadata": {},
   "outputs": [
    {
     "data": {
      "text/plain": [
       "-77.79"
      ]
     },
     "execution_count": 22,
     "metadata": {},
     "output_type": "execute_result"
    }
   ],
   "source": [
    "df_clean[\"1Y Tot Ret (%)\"].min()"
   ]
  },
  {
   "cell_type": "markdown",
   "metadata": {},
   "source": [
    "### Exploring data visually "
   ]
  },
  {
   "cell_type": "code",
   "execution_count": 23,
   "metadata": {},
   "outputs": [],
   "source": [
    "# Creating a dataframe that excludes companies that are listed in the stockmarket for less than one year and that, for this reason, \"1Y Tot Ret (%)\" equals zero. \n",
    "\n",
    "df_clean2 = df_clean[df_clean[\"1Y Tot Ret (%)\"] != 0]"
   ]
  },
  {
   "cell_type": "code",
   "execution_count": 24,
   "metadata": {},
   "outputs": [
    {
     "data": {
      "text/plain": [
       "(4779, 32)"
      ]
     },
     "execution_count": 24,
     "metadata": {},
     "output_type": "execute_result"
    }
   ],
   "source": [
    "df_clean2.shape"
   ]
  },
  {
   "cell_type": "code",
   "execution_count": 39,
   "metadata": {},
   "outputs": [
    {
     "data": {
      "image/png": "[encoded data removed]",
      "text/plain": [
       "<Figure size 432x288 with 1 Axes>"
      ]
     },
     "metadata": {
      "needs_background": "light"
     },
     "output_type": "display_data"
    }
   ],
   "source": [
    "# Creating a scatterplot using matplotlib \n",
    "\n",
    "df_clean2.plot(x = \"ratio_yearvar_meanprice\", y=\"1Y Tot Ret (%)\" ,style='o') \n",
    "plt.title(\"1Y Tot Ret (%) Vs ratio_yearvar_meanprice\")  \n",
    "plt.xlabel(\"ratio_yearvar_meanprice\")  \n",
    "plt.ylabel(\"1Y Tot Ret (%)\")  \n",
    "plt.show()"
   ]
  },
  {
   "cell_type": "markdown",
   "metadata": {},
   "source": [
    "### Stating hypothesis \n",
    "\n",
    "##### the companies that experienced bigger drops in value because of the pandemic, are also likelier to have performed better throughout the year."
   ]
  },
  {
   "cell_type": "markdown",
   "metadata": {},
   "source": [
    "### Reshaping the variables into NumPy arrays, with X = independent variable and y = dependent variable."
   ]
  },
  {
   "cell_type": "code",
   "execution_count": 28,
   "metadata": {},
   "outputs": [],
   "source": [
    "# Reshaping the variables into NumPy arrays \n",
    "\n",
    "X = df_clean2[\"ratio_yearvar_meanprice\"].values.reshape(-1,1)\n",
    "y = df_clean2[\"1Y Tot Ret (%)\"].values.reshape(-1,1)"
   ]
  },
  {
   "cell_type": "code",
   "execution_count": 30,
   "metadata": {},
   "outputs": [
    {
     "data": {
      "text/plain": [
       "array([[0.95673832],\n",
       "       [0.54061772],\n",
       "       [0.77131536],\n",
       "       ...,\n",
       "       [0.17565572],\n",
       "       [0.09644018],\n",
       "       [1.27687045]])"
      ]
     },
     "execution_count": 30,
     "metadata": {},
     "output_type": "execute_result"
    }
   ],
   "source": [
    "X"
   ]
  },
  {
   "cell_type": "code",
   "execution_count": 31,
   "metadata": {},
   "outputs": [
    {
     "data": {
      "text/plain": [
       "array([[79.75],\n",
       "       [43.23],\n",
       "       [77.83],\n",
       "       ...,\n",
       "       [ 4.05],\n",
       "       [ 2.99],\n",
       "       [87.66]])"
      ]
     },
     "execution_count": 31,
     "metadata": {},
     "output_type": "execute_result"
    }
   ],
   "source": [
    "y"
   ]
  },
  {
   "cell_type": "markdown",
   "metadata": {},
   "source": [
    "### Spliting the data into two sets: a training set and a test set."
   ]
  },
  {
   "cell_type": "code",
   "execution_count": 32,
   "metadata": {},
   "outputs": [],
   "source": [
    "# Split data into a training set and a test set.\n",
    "\n",
    "X_train, X_test, y_train, y_test = train_test_split(X, y, test_size=0.3, random_state=0)"
   ]
  },
  {
   "cell_type": "code",
   "execution_count": 33,
   "metadata": {},
   "outputs": [
    {
     "data": {
      "text/plain": [
       "(3345, 1)"
      ]
     },
     "execution_count": 33,
     "metadata": {},
     "output_type": "execute_result"
    }
   ],
   "source": [
    "X_train.shape"
   ]
  },
  {
   "cell_type": "code",
   "execution_count": 34,
   "metadata": {},
   "outputs": [
    {
     "data": {
      "text/plain": [
       "(1434, 1)"
      ]
     },
     "execution_count": 34,
     "metadata": {},
     "output_type": "execute_result"
    }
   ],
   "source": [
    "X_test.shape"
   ]
  },
  {
   "cell_type": "markdown",
   "metadata": {},
   "source": [
    "### Running a linear regression on the data."
   ]
  },
  {
   "cell_type": "code",
   "execution_count": 35,
   "metadata": {},
   "outputs": [],
   "source": [
    "# Creating a regression object.\n",
    "\n",
    "regression = LinearRegression()  "
   ]
  },
  {
   "cell_type": "code",
   "execution_count": 36,
   "metadata": {},
   "outputs": [
    {
     "data": {
      "text/plain": [
       "LinearRegression()"
      ]
     },
     "execution_count": 36,
     "metadata": {},
     "output_type": "execute_result"
    }
   ],
   "source": [
    "# Fitting the regression object onto the training set.\n",
    "\n",
    "regression.fit(X_train, y_train)"
   ]
  },
  {
   "cell_type": "code",
   "execution_count": 37,
   "metadata": {},
   "outputs": [],
   "source": [
    "# Predicting the values of y using X.\n",
    "\n",
    "y_predicted = regression.predict(X_test)"
   ]
  },
  {
   "cell_type": "code",
   "execution_count": 38,
   "metadata": {},
   "outputs": [
    {
     "data": {
      "text/plain": [
       "array([[ 17.31010769],\n",
       "       [-11.82452988],\n",
       "       [-11.93022886],\n",
       "       ...,\n",
       "       [ 55.59420095],\n",
       "       [ 25.77937824],\n",
       "       [ 33.34078011]])"
      ]
     },
     "execution_count": 38,
     "metadata": {},
     "output_type": "execute_result"
    }
   ],
   "source": [
    "y_predicted"
   ]
  },
  {
   "cell_type": "markdown",
   "metadata": {},
   "source": [
    "### Creating a plot that shows the regression line on the test set"
   ]
  },
  {
   "cell_type": "code",
   "execution_count": 43,
   "metadata": {},
   "outputs": [
    {
     "data": {
      "image/png": "[encoded data removed]",
      "text/plain": [
       "<Figure size 432x288 with 1 Axes>"
      ]
     },
     "metadata": {
      "needs_background": "light"
     },
     "output_type": "display_data"
    }
   ],
   "source": [
    "# Creating a plot that shows the regression line from the model on the test set.\n",
    "\n",
    "plot_test = plt\n",
    "plot_test.scatter(X_test, y_test, color='gray', s = 15)\n",
    "plot_test.plot(X_test, y_predicted, color='red', linewidth =3)\n",
    "plot_test.title(\"1Y Tot Ret (%) Vs ratio_yearvar_meanprice (Test set)\")\n",
    "plot_test.xlabel(\"ratio_yearvar_meanprice\")\n",
    "plot_test.ylabel(\"1Y Tot Ret (%)\")\n",
    "plot_test.show()"
   ]
  },
  {
   "cell_type": "markdown",
   "metadata": {},
   "source": [
    "### Interpreting fit \n",
    "\n",
    "##### The model does not seem to be well fitted to the data. \n",
    "\n",
    "##### Especially for the cases where the \"ratio_yearvar_meanprice\" is higher.\n",
    "\n",
    "##### clearly there are more variables that need to be taken into consideration when predicting \"1Y Tot Ret (%)\"."
   ]
  },
  {
   "cell_type": "markdown",
   "metadata": {},
   "source": [
    "### Checking the model performance statistics - MSE and R2."
   ]
  },
  {
   "cell_type": "code",
   "execution_count": 41,
   "metadata": {},
   "outputs": [],
   "source": [
    "# Creating objects that contain the model summary statistics.\n",
    "\n",
    "rmse = mean_squared_error(y_test, y_predicted) # This is the mean squared error\n",
    "r2 = r2_score(y_test, y_predicted) # This is the R2 score. "
   ]
  },
  {
   "cell_type": "code",
   "execution_count": 42,
   "metadata": {},
   "outputs": [
    {
     "name": "stdout",
     "output_type": "stream",
     "text": [
      "Slope: [[159.25214182]]\n",
      "Mean squared error:  3090.5848887001657\n",
      "R2 score:  0.21023736387630887\n"
     ]
    }
   ],
   "source": [
    "# Printing the model summary statistics. \n",
    "\n",
    "print('Slope:' ,regression.coef_)\n",
    "print('Mean squared error: ', rmse)\n",
    "print('R2 score: ', r2)"
   ]
  },
  {
   "cell_type": "markdown",
   "metadata": {},
   "source": [
    "### Comparing the predicted y values with the actual y values in a dataframe."
   ]
  },
  {
   "cell_type": "code",
   "execution_count": 44,
   "metadata": {},
   "outputs": [
    {
     "data": {
      "text/html": [
       "<div>\n",
       "<style scoped>\n",
       "    .dataframe tbody tr th:only-of-type {\n",
       "        vertical-align: middle;\n",
       "    }\n",
       "\n",
       "    .dataframe tbody tr th {\n",
       "        vertical-align: top;\n",
       "    }\n",
       "\n",
       "    .dataframe thead th {\n",
       "        text-align: right;\n",
       "    }\n",
       "</style>\n",
       "<table border=\"1\" class=\"dataframe\">\n",
       "  <thead>\n",
       "    <tr style=\"text-align: right;\">\n",
       "      <th></th>\n",
       "      <th>Actual</th>\n",
       "      <th>Predicted</th>\n",
       "    </tr>\n",
       "  </thead>\n",
       "  <tbody>\n",
       "    <tr>\n",
       "      <th>0</th>\n",
       "      <td>24.20</td>\n",
       "      <td>17.310108</td>\n",
       "    </tr>\n",
       "    <tr>\n",
       "      <th>1</th>\n",
       "      <td>15.71</td>\n",
       "      <td>-11.824530</td>\n",
       "    </tr>\n",
       "    <tr>\n",
       "      <th>2</th>\n",
       "      <td>-30.64</td>\n",
       "      <td>-11.930229</td>\n",
       "    </tr>\n",
       "    <tr>\n",
       "      <th>3</th>\n",
       "      <td>-4.40</td>\n",
       "      <td>36.113479</td>\n",
       "    </tr>\n",
       "    <tr>\n",
       "      <th>4</th>\n",
       "      <td>17.15</td>\n",
       "      <td>99.867375</td>\n",
       "    </tr>\n",
       "    <tr>\n",
       "      <th>5</th>\n",
       "      <td>76.89</td>\n",
       "      <td>77.826041</td>\n",
       "    </tr>\n",
       "    <tr>\n",
       "      <th>6</th>\n",
       "      <td>-20.56</td>\n",
       "      <td>21.998004</td>\n",
       "    </tr>\n",
       "    <tr>\n",
       "      <th>7</th>\n",
       "      <td>-0.66</td>\n",
       "      <td>-20.748098</td>\n",
       "    </tr>\n",
       "    <tr>\n",
       "      <th>8</th>\n",
       "      <td>-17.16</td>\n",
       "      <td>6.254538</td>\n",
       "    </tr>\n",
       "    <tr>\n",
       "      <th>9</th>\n",
       "      <td>141.12</td>\n",
       "      <td>95.676398</td>\n",
       "    </tr>\n",
       "    <tr>\n",
       "      <th>10</th>\n",
       "      <td>-14.29</td>\n",
       "      <td>3.057361</td>\n",
       "    </tr>\n",
       "    <tr>\n",
       "      <th>11</th>\n",
       "      <td>22.40</td>\n",
       "      <td>-0.545742</td>\n",
       "    </tr>\n",
       "    <tr>\n",
       "      <th>12</th>\n",
       "      <td>122.50</td>\n",
       "      <td>91.325966</td>\n",
       "    </tr>\n",
       "    <tr>\n",
       "      <th>13</th>\n",
       "      <td>63.66</td>\n",
       "      <td>59.822090</td>\n",
       "    </tr>\n",
       "    <tr>\n",
       "      <th>14</th>\n",
       "      <td>0.27</td>\n",
       "      <td>1.394693</td>\n",
       "    </tr>\n",
       "    <tr>\n",
       "      <th>15</th>\n",
       "      <td>28.76</td>\n",
       "      <td>5.926967</td>\n",
       "    </tr>\n",
       "    <tr>\n",
       "      <th>16</th>\n",
       "      <td>-7.60</td>\n",
       "      <td>-18.457641</td>\n",
       "    </tr>\n",
       "    <tr>\n",
       "      <th>17</th>\n",
       "      <td>26.65</td>\n",
       "      <td>17.277439</td>\n",
       "    </tr>\n",
       "    <tr>\n",
       "      <th>18</th>\n",
       "      <td>-27.63</td>\n",
       "      <td>54.761632</td>\n",
       "    </tr>\n",
       "    <tr>\n",
       "      <th>19</th>\n",
       "      <td>8.98</td>\n",
       "      <td>2.031271</td>\n",
       "    </tr>\n",
       "    <tr>\n",
       "      <th>20</th>\n",
       "      <td>-15.80</td>\n",
       "      <td>13.080971</td>\n",
       "    </tr>\n",
       "    <tr>\n",
       "      <th>21</th>\n",
       "      <td>7.11</td>\n",
       "      <td>34.151599</td>\n",
       "    </tr>\n",
       "    <tr>\n",
       "      <th>22</th>\n",
       "      <td>-5.20</td>\n",
       "      <td>8.008396</td>\n",
       "    </tr>\n",
       "    <tr>\n",
       "      <th>23</th>\n",
       "      <td>13.41</td>\n",
       "      <td>-19.529573</td>\n",
       "    </tr>\n",
       "    <tr>\n",
       "      <th>24</th>\n",
       "      <td>-20.50</td>\n",
       "      <td>-26.210722</td>\n",
       "    </tr>\n",
       "    <tr>\n",
       "      <th>25</th>\n",
       "      <td>-25.72</td>\n",
       "      <td>20.577044</td>\n",
       "    </tr>\n",
       "    <tr>\n",
       "      <th>26</th>\n",
       "      <td>-23.73</td>\n",
       "      <td>223.330866</td>\n",
       "    </tr>\n",
       "    <tr>\n",
       "      <th>27</th>\n",
       "      <td>9.94</td>\n",
       "      <td>64.018996</td>\n",
       "    </tr>\n",
       "    <tr>\n",
       "      <th>28</th>\n",
       "      <td>64.77</td>\n",
       "      <td>52.772160</td>\n",
       "    </tr>\n",
       "    <tr>\n",
       "      <th>29</th>\n",
       "      <td>6.67</td>\n",
       "      <td>-59.353352</td>\n",
       "    </tr>\n",
       "  </tbody>\n",
       "</table>\n",
       "</div>"
      ],
      "text/plain": [
       "    Actual   Predicted\n",
       "0    24.20   17.310108\n",
       "1    15.71  -11.824530\n",
       "2   -30.64  -11.930229\n",
       "3    -4.40   36.113479\n",
       "4    17.15   99.867375\n",
       "5    76.89   77.826041\n",
       "6   -20.56   21.998004\n",
       "7    -0.66  -20.748098\n",
       "8   -17.16    6.254538\n",
       "9   141.12   95.676398\n",
       "10  -14.29    3.057361\n",
       "11   22.40   -0.545742\n",
       "12  122.50   91.325966\n",
       "13   63.66   59.822090\n",
       "14    0.27    1.394693\n",
       "15   28.76    5.926967\n",
       "16   -7.60  -18.457641\n",
       "17   26.65   17.277439\n",
       "18  -27.63   54.761632\n",
       "19    8.98    2.031271\n",
       "20  -15.80   13.080971\n",
       "21    7.11   34.151599\n",
       "22   -5.20    8.008396\n",
       "23   13.41  -19.529573\n",
       "24  -20.50  -26.210722\n",
       "25  -25.72   20.577044\n",
       "26  -23.73  223.330866\n",
       "27    9.94   64.018996\n",
       "28   64.77   52.772160\n",
       "29    6.67  -59.353352"
      ]
     },
     "execution_count": 44,
     "metadata": {},
     "output_type": "execute_result"
    }
   ],
   "source": [
    "# Creating a dataframe comparing the actual and predicted values of y.\n",
    "\n",
    "data = pd.DataFrame({'Actual': y_test.flatten(), 'Predicted': y_predicted.flatten()})\n",
    "data.head(30)"
   ]
  },
  {
   "cell_type": "markdown",
   "metadata": {},
   "source": [
    "### Comments\n",
    "\n",
    "##### The slope is positive as expected.\n",
    "\n",
    "#####  The MSE is very large. Prediction is not accurate.\n",
    "\n",
    "#####  The low R2 also confirms the poor fit.\n",
    "\n",
    "##### clearly there are more variables that need to be taken into consideration when predicting \"1Y Tot Ret (%)\".\n",
    "\n",
    "##### Especially during such a singular period of the world economy.\n",
    "\n",
    "#####  Impact of data bias is non-existant."
   ]
  },
  {
   "cell_type": "code",
   "execution_count": 45,
   "metadata": {},
   "outputs": [],
   "source": [
    "df_clean2.to_csv(os.path.join(path, \"02_Data\", \"Prepared data\", \"df_Vs3_clean2_exe6-4.csv\"))"
   ]
  },
  {
   "cell_type": "code",
   "execution_count": null,
   "metadata": {},
   "outputs": [],
   "source": []
  }
 ],
 "metadata": {
  "kernelspec": {
   "display_name": "Python 3",
   "language": "python",
   "name": "python3"
  },
  "language_info": {
   "codemirror_mode": {
    "name": "ipython",
    "version": 3
   },
   "file_extension": ".py",
   "mimetype": "text/x-python",
   "name": "python",
   "nbconvert_exporter": "python",
   "pygments_lexer": "ipython3",
   "version": "3.8.5"
  }
 },
 "nbformat": 4,
 "nbformat_minor": 4
}
